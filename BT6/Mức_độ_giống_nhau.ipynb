{
  "nbformat": 4,
  "nbformat_minor": 0,
  "metadata": {
    "colab": {
      "name": "Mức độ giống nhau.ipynb",
      "provenance": []
    },
    "kernelspec": {
      "name": "python3",
      "display_name": "Python 3"
    }
  },
  "cells": [
    {
      "source": [
        "**MỨC ĐỘ GIỐNG NHAU**\n",
        "\n",
        "Một quần thể sinh vật ngoài hành tinh có gene tạo thành từ 26 cơ sở ký hiệu từ A tới Z. Mỗi gene là một xâu ký tự các chữ cái la tinh hoa. Hai cá thể khác nhau có gene khác nhau. Mức độ giống nhau của 2 gene sẽ xác định độ huyết thống của chúng.\n",
        "\n",
        "Độ giống nhau của gene thứ nhất đối với gene thứ 2 là số lượng cặp 2 cơ sở liên tiếp nhau trong gene thứ nhất đồng thời là cặp 2 cơ sở liên tiếp nhau trong gene thứ hai.\n",
        "\n",
        "Ví dụ, gene thứ nhất là ABBACAB, gene thứ 2 là BCABB thì mức độ giống nhau là 4.\n",
        "Cho hai gene. Hãy xác định mức độ giống nhau của gene thứ nhất với gene thứ 2."
      ],
      "cell_type": "markdown",
      "metadata": {}
    },
    {
      "cell_type": "markdown",
      "metadata": {
        "id": "qPfIgQ_-_ice"
      },
      "source": [
        "## **1. Tóm tắt bài toán**\n",
        "-----"
      ]
    },
    {
      "cell_type": "markdown",
      "metadata": {
        "id": "YiQ5AZMF_np3"
      },
      "source": [
        "**Tìm** số substring (độ dài là 2) ở chuỗi gene thứ 1 trùng với substring ở chuỗi gene thứ 2."
      ]
    },
    {
      "source": [
        "#**2. Nhận diện mẫu**\n",
        "---"
      ],
      "cell_type": "markdown",
      "metadata": {
        "id": "MnQZnvVL_wch"
      }
    },
    {
      "cell_type": "markdown",
      "metadata": {
        "id": "wDaLgKHf_xSs"
      },
      "source": [
        "Nếu ta coi từng cặp substring liền nhau là một phần tử riêng biệt, thì ta có thể giải bài toán này tương tự như bài toán đếm số phần tử giống nhau trong 2 mảng con "
      ]
    },
    {
      "cell_type": "markdown",
      "metadata": {
        "id": "4rbzn5PZ_7Yz"
      },
      "source": [
        "##**3. Thiết kế thuật toán**\n",
        "--- "
      ]
    },
    {
      "source": [
        "Pseudocode:\n",
        "Input:\n",
        "    a: boolean array hoặc binary array, array chứa gene thứ nhất.\n",
        "    b: boolean array hoặc binary array, array chứa gene thứ hai.\n",
        "Output:\n",
        "    c: int, mức độ giống nhau của 2 gene."
      ],
      "cell_type": "markdown",
      "metadata": {}
    },
    {
      "source": [
        "Code:"
      ],
      "cell_type": "markdown",
      "metadata": {}
    },
    {
      "cell_type": "code",
      "metadata": {
        "id": "Tf5nI6pkzSHC",
        "outputId": "d9d10dbe-51a7-4ae7-8914-5e5605c7531b",
        "colab": {
          "base_uri": "https://localhost:8080/",
          "height": 67
        }
      },
      "source": [
        "a = input().strip()\n",
        "b = input().strip()\n",
        "c = 0\n",
        "mydict = {}\n",
        "for i in range(len(b)-1):\n",
        "  mydict[b[i:i+2]] = 1 \n",
        "mydict\n",
        "for i in range(0,len(a)-1):\n",
        "  if a[i:i+2] in mydict:\n",
        "    c += 1 \n",
        "print(c)  "
      ],
      "execution_count": null,
      "outputs": [
        {
          "output_type": "stream",
          "text": [
            "ABBACAB\n",
            "BCABB\n",
            "4\n"
          ],
          "name": "stdout"
        }
      ]
    }
  ]
}