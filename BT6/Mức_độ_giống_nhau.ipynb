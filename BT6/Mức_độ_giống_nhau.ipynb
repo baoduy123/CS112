{
  "nbformat": 4,
  "nbformat_minor": 0,
  "metadata": {
    "colab": {
      "name": "Mức độ giống nhau.ipynb",
      "provenance": []
    },
    "kernelspec": {
      "name": "python3",
      "display_name": "Python 3"
    }
  },
  "cells": [
    {
      "source": [
        "## **MỨC ĐỘ GIỐNG NHAU**\n",
        "\n",
        "Một quần thể sinh vật ngoài hành tinh có gene tạo thành từ 26 cơ sở ký hiệu từ A tới Z. Mỗi gene là một xâu ký tự các chữ cái la tinh hoa. Hai cá thể khác nhau có gene khác nhau. Mức độ giống nhau của 2 gene sẽ xác định độ huyết thống của chúng.\n",
        "\n",
        "Độ giống nhau của gene thứ nhất đối với gene thứ 2 là số lượng cặp 2 cơ sở liên tiếp nhau trong gene thứ nhất đồng thời là cặp 2 cơ sở liên tiếp nhau trong gene thứ hai.\n",
        "\n",
        "Ví dụ, gene thứ nhất là ABBACAB, gene thứ 2 là BCABB thì mức độ giống nhau là 4.\n",
        "\n",
        "Cho hai gene. Hãy xác định mức độ giống nhau của gene thứ nhất với gene thứ 2.\n",
        "\n",
        "**Dữ liệu:** Vào từ thiết bị nhập chuẩn bao gồm 2 dòng chứa 2 xâu khác rỗng xác định gene thứ nhất và gene thứ 2, mỗi xâu chỉ chứa các ký tự chữ cái in hoa và có độ dài không quá 10^5.\n",
        "\n",
        "**Kết quả:** Đưa ra thiết bị xuất chuẩn một số nguyên – mức độ giống nhau của 2 genes."
      ],
      "cell_type": "markdown",
      "metadata": {}
    },
    {
      "cell_type": "markdown",
      "metadata": {
        "id": "YiQ5AZMF_np3"
      },
      "source": [
        "## **1. Tóm tắt bài toán**\n",
        "---\n",
        "Có 2 chuỗi kí tự in hoa, tìm số cặp kí tự giống nhau giữa 2 chuỗi."
      ]
    },
    {
      "cell_type": "markdown",
      "metadata": {
        "id": "wDaLgKHf_xSs"
      },
      "source": [
        "## **2. Nhận diện mẫu**\n",
        "---\n",
        "Nếu ta coi từng cặp substring liền nhau là một phần tử riêng biệt, thì ta có thể giải bài toán này tương tự như bài toán đếm số phần tử giống nhau trong 2 mảng con.\n",
        "\n",
        "**Ý tưởng:**\n",
        ">Trong một chuỗi, ta tách các cặp kí tự liền nhau thành một mảng, ví dụ: chuỗi abcd thì ta sẽ có [ab, bc, cd].\n",
        ">\n",
        ">Với chuỗi tiếp theo, ta cũng làm tương tự.\n",
        ">\n",
        ">Để tìm số cặp giống nhau của 2 chuỗi ta so sánh từng phần tử giữa 2 mảng vừa tạo với nhau.\n",
        ">\n",
        ">>**Bài toán trở về dạng tìm số phần tử giống nhau giữa 2 mảng.**"
      ]
    },
    {
      "cell_type": "markdown",
      "metadata": {
        "id": "4rbzn5PZ_7Yz"
      },
      "source": [
        "## **3. Thiết kế thuật toán**\n",
        "---\n",
        "**BRUTE FORCE**\n",
        "\n",
        "Ý tưởng thuật toán:\n",
        ">Tìm tất cả các cặp kí tự liền nhau trong chuỗi thứ hai, tạo thành một mảng ghi tạm.\n",
        "\n",
        ">Xét từng cặp kí tự trong chuỗi thứ nhất xem chúng có trong bảng ghi tạm hay không, nếu có thì sẽ được đếm.\n",
        "\n",
        ">Kết quả đưa ra là số lần đếm đại diện cho số cặp giống nhau giữa 2 chuỗi.\n",
        "\n",
        "Input:\n",
        "\n",
        ">a: char array hoặc string, chuỗi gene thứ nhất. (index bắt đầu: 0, index kết thúc: n-1, n là số phần tử)\n",
        "\n",
        ">b: char array hoặc string, chuỗi gene thứ hai. (index bắt đầu: 0, index kết thúc: n-1, n là số phần tử)\n",
        "\n",
        "Temporary variable(s):\n",
        "\n",
        ">temp: string array, mảng các cặp gene ghi tạm được lấy từ gene thứ hai.\n",
        "\n",
        "Output:\n",
        "\n",
        ">count: int, kết quả, số lần đếm giống nhau, mức độ giống nhau của 2 gene, không có gene giống nhau thì là 0.\n",
        "\n",
        "Điều kiện (Conditions/ constraints):\n",
        ">0 < len(a) <= 10^5 (len(a) là độ dài của mảng a)\n",
        "\n",
        ">0 < len(b) <= 10^5 (len(b) là độ dài của mảng b)\n",
        "\n",
        "Pseudocode:\n",
        "\n",
        "```\n",
        "function count_gene(a, b):\n",
        "    initialize temp\n",
        "    initialize count:=0\n",
        "    for i:=0 to len(b)-2:\n",
        "        append (b[i]+b[i+1]) to temp // (b[i]+b[i+1]) là gọp 2 kí tự lại tạo thành một chuỗi và sau đó lưu chuỗi đó vào mảng temp\n",
        "    for i:=0 to len(a)-2:\n",
        "        if (a[i]+a[i+1]) is in temp:\n",
        "            count = count + 1\n",
        "    return count\n",
        "```\n",
        "Code (Python):"
      ]
    },
    {
      "cell_type": "code",
      "metadata": {
        "id": "Tf5nI6pkzSHC",
        "outputId": "d9d10dbe-51a7-4ae7-8914-5e5605c7531b",
        "colab": {
          "base_uri": "https://localhost:8080/",
          "height": 67
        }
      },
      "source": [
        "a = input().strip()\n",
        "b = input().strip()\n",
        "c = 0\n",
        "mydict = {}\n",
        "for i in range(len(b)-1):\n",
        "  mydict[b[i:i+2]] = 1 \n",
        "mydict\n",
        "for i in range(0,len(a)-1):\n",
        "  if a[i:i+2] in mydict:\n",
        "    c += 1 \n",
        "print(c)  "
      ],
      "execution_count": null,
      "outputs": [
        {
          "output_type": "stream",
          "text": [
            "ABBACAB\n",
            "BCABB\n",
            "4\n"
          ],
          "name": "stdout"
        }
      ]
    },
    {
      "source": [
        "Time complexity: O(N+M)\n",
        ">N là số kí tự của b, duyệt hết mảng b để tạo mảng ghi tạm\n",
        "\n",
        ">M là số kí tự của a, xét các cặp của a có trong bảng ghi đã tạo hay không.\n"
      ],
      "cell_type": "markdown",
      "metadata": {}
    }
  ]
}