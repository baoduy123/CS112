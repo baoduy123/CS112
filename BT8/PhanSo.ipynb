{
  "nbformat": 4,
  "nbformat_minor": 0,
  "metadata": {
    "colab": {
      "name": "PhanSo.ipynb",
      "provenance": []
    },
    "kernelspec": {
      "name": "python3",
      "display_name": "Python 3"
    }
  },
  "cells": [
    {
      "cell_type": "markdown",
      "metadata": {
        "id": "hR0sU52goApA"
      },
      "source": [
        "### **PHÂN SỐ**\n",
        "---\n",
        "* Cho 2 phân số đúng và tối giản a/b, c/d. Mỗi phép biến đổi là tăng a và b lên 1, sau đó giản ước phân số nhận được.\n",
        "\n",
        "* Hãy xác định sau bao nhiêu bước biến đổi từ phân số thứ nhất ban đầu nhận được phân số thứ 2 đã cho.\n",
        "\n",
        "* Dữ liệu: Vào từ thiết bị nhập chuẩn gồm 4 dòng, mỗi dòng chứa 1 số nguyên a, b, c, d, 0 < a < b ≤ 10^5, 0 < c < d ≤ 10^5, a và b nguyên tố cùng nhau, c và d nguyên tố cùng nhau a/b  ≠  c/d\n",
        "\n",
        "* Kết quả: Đưa ra thiết bị xuất chuẩn số 0 nếu không có cách biến đổi hoặc một số nguyên – số lượng phép biến đổi."
      ]
    },
    {
      "cell_type": "markdown",
      "metadata": {
        "id": "1fJydcbDogyp"
      },
      "source": [
        "## **1. Tóm tắt bài toán (Abstraction)**\n",
        "---\n",
        "Tìm dãy tăng phân số (tăng mẫu và tử thêm 1) đáp ứng phân số tối giản"
      ]
    },
    {
      "source": [
        "## **2. Nhận diện mẫu (Pattern recognition)**\n",
        "---\n",
        "Vòng lặp và tìm ước chung lớn nhất, Euclid\n",
        "\n",
        "**Ý tưởng:**\n",
        "- Tăng tử số và mẫu số sau mỗi lần lặp theo yêu cầu của bài toán, nếu phân số đang xét bằng với phân số mục tiêu thì kết thúc.\n",
        "- Nếu cần tối giản thì tìm ước chung lớn nhất để tối gian phân số."
      ],
      "cell_type": "markdown",
      "metadata": {}
    },
    {
      "cell_type": "markdown",
      "metadata": {
        "id": "cWCo39xih6x7"
      },
      "source": [
        "## **3. Thiết kế thuật toán (Algorithm design(s))**\n",
        "---\n",
        "**BRUTE FORCE**\n",
        "- Ý tưởng thuật toán:\n",
        "  - Tăng dần phân số thêm 1 đơn vị tử và mẫu, nếu a = c và b = d thì dừng\n",
        "  - Mỗi lần tăng phân số thêm 1 đơn vị tử và mẫu phải đảm bảo phân số tối giản, nếu không thì tối giản nó\n",
        "- Input:\n",
        "  - a: int, tử số của phân số đang xét\n",
        "  - b: int, mẫu số của phân số đang xét\n",
        "  - c: int, tử số của phân số mục tiêu\n",
        "  - d: int, mẫu số của phân số mục tiêu\n",
        "- Temporary variables:\n",
        "  - x: int, ước chung lớn nhất của a và b\n",
        "- Output:\n",
        "  - count: int, số lượng phép biến đổi nếu có, không thì là 0\n",
        "- Điều kiện (Conditions/ constraints):\n",
        "  - 0 < a < b ≤ 10^5\n",
        "  - 0 < c < d ≤ 10^5\n",
        "  - 0 < x ≤ 10^5"
      ]
    },
    {
      "cell_type": "markdown",
      "metadata": {
        "id": "jO1G2BflkrbV"
      },
      "source": [
        "- Pseudocode:\n",
        "```\n",
        "count := 0\n",
        "while loops True:\n",
        "  if a/b >= c/d\n",
        "  then\n",
        "    break\n",
        "  else \n",
        "    a = a+1\n",
        "    b = b+1\n",
        "    x:=a\n",
        "    y:=b\n",
        "    while loops (y!=0)\n",
        "      z = x\n",
        "      x = y\n",
        "      y = z%y\n",
        "    a = int(a/x)\n",
        "    b = int(b/x)\n",
        "    count = count +1\n",
        "```\n",
        "- Code (Python):"
      ]
    },
    {
      "cell_type": "code",
      "metadata": {
        "id": "4SpZbBn5khou",
        "outputId": "ef6247c0-beac-4408-89b0-9ffa278e3d96",
        "colab": {
          "base_uri": "https://localhost:8080/"
        }
      },
      "source": [
        "a = int(input())\n",
        "b = int(input())\n",
        "c = int(input())\n",
        "d = int(input())\n",
        "\n",
        "\n",
        "def gcd(a, b):\n",
        "    while b!=0:\n",
        "        a, b = b, a%b\n",
        "    return a\n",
        "\n",
        "count = 0\n",
        "while (1):\n",
        "    if (a/b == c/d):\n",
        "        break\n",
        "    elif (a/b > c/d):\n",
        "        count = 0\n",
        "        break\n",
        "    a += 1\n",
        "    b += 1\n",
        "    x = gcd(a,b)\n",
        "    a = int(a/x)\n",
        "    b = int(b/x)\n",
        "    count += 1\n",
        "print(count)"
      ],
      "execution_count": 1,
      "outputs": [
        {
          "output_type": "stream",
          "text": [
            "1\n",
            "6\n",
            "2\n",
            "3\n",
            "5\n"
          ],
          "name": "stdout"
        }
      ]
    },
    {
      "source": [
        "- Time complexity: O(nlogn)\n",
        "  - Một vòng lặp là O(n)\n",
        "  - Công thức Euclid là O(logn) <br>\n",
        "  => Theo quy tắc nhân: O(n) * O(logn) = O(nlogn)"
      ],
      "cell_type": "markdown",
      "metadata": {}
    }
  ]
}