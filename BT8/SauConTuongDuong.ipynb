{
 "metadata": {
  "language_info": {
   "codemirror_mode": {
    "name": "ipython",
    "version": 3
   },
   "file_extension": ".py",
   "mimetype": "text/x-python",
   "name": "python",
   "nbconvert_exporter": "python",
   "pygments_lexer": "ipython3",
   "version": "3.8.5-final"
  },
  "orig_nbformat": 2,
  "kernelspec": {
   "name": "python3",
   "display_name": "Python 3.8.5 64-bit",
   "metadata": {
    "interpreter": {
     "hash": "1c69b033b16f8a02ea3bf503dea2651c882f92e69cc7e4ebeb0f420b1087b7b6"
    }
   }
  }
 },
 "nbformat": 4,
 "nbformat_minor": 2,
 "cells": [
  {
   "source": [
    "## **XÂU CON TƯƠNG ĐƯƠNG**\n",
    "---\n",
    "Cho xâu s chỉ chứa các ký tự la tinh thường độ dài n không quá 105. Ký hiệu s[i..j] là xâu con các ký tự liên tiếp nhau của s từ vị trí i đến vị trí j. Hai xâu con x = s[a..b] và y = s[c..d] được gọi là cùng một lớp tương đương nếu có cách đổi chỗ các ký tự trong một xâu để nhận được xâu kia. Các vị trí được đánh số từ 1 trở đi.\n",
    "\n",
    "Ví dụ với s = “abcbacaac”, s[1..3] tương đương với s[4..6], còn s[1..3] không tương đương với s[5..7].\n",
    "\n",
    "Cho q truy vấn, mỗi truy vấn là 4 số nguyên a, b, c, d xác định các xâu con x và y. Với mỗi truy vấn hãy xác định hai xâu con này có cùng một lớp tương đương hay không và đưa ra câu trả lời tương ứng “YES” hoặc “NO”.\n",
    "\n",
    "Dữ liệu: Vào từ thiết bị nhập chuẩn:\n",
    "\n",
    "Dòng đầu tiên chứa xâu s,\n",
    "\n",
    "Dòng thứ 2 chứa số nguyên q (1 ≤  q  ≤ 105),\n",
    "\n",
    "Mỗi dòng trong q dòng tiếp theo chứa 4 số nguyên a, b, c, d (1 ≤ a ≤ b ≤ n, 1 ≤ c ≤ d ≤ n).\n",
    "\n",
    "Kết quả: Đưa ra thiết bị xuất chuẩn các câu trả lời xác định được cho mỗi truy vấn, mỗi câu trả lời trên một dòng."
   ],
   "cell_type": "markdown",
   "metadata": {}
  },
  {
   "source": [
    "## **1. Tóm tắt bài toán (Abstraction)**\n",
    "---\n",
    "So sánh 2 chuỗi mà không so sánh vị trí của các chuỗi con của chúng."
   ],
   "cell_type": "markdown",
   "metadata": {}
  },
  {
   "source": [
    "## **2. Nhận diện mẫu (Pattern recognization)**\n",
    "---\n",
    "So sánh 2 dữ liệu tương tự nhau có hash giống nhau.\n",
    "\n",
    "**Ý tưởng:**\n",
    "\n",
    ">Kỹ thuật Hashing: Trong bảng mã Unicode, mỗi kí tự được đại diện bằng một số nguyên (gọi số này là trọng số), ta sử dụng tổng các số nguyên giữa 2 chuỗi để so sánh. Tuy nhiên, ta cần tìm trọng số của của các kí tự đó đủ lớn sao cho các tổng trọng số của các chuỗi không tương tương tự nhau là khác nhau:\n",
    "\n",
    ">>**hash(kí_tự) = trọng_số ^ 3**\n",
    "\n",
    ">Sau khi đã có trọng số của từng kí tự trong 2 chuỗi, ta so sánh tổng trọng số của mỗi chuỗi con."
   ],
   "cell_type": "markdown",
   "metadata": {}
  },
  {
   "source": [
    "## **3. Điều kiện (Constraints)**\n",
    "---\n"
   ],
   "cell_type": "markdown",
   "metadata": {}
  },
  {
   "source": [
    "## **4. Thiết kế thuật toán**\n",
    "---\n",
    "**DYNAMIC PROGRAMMING**\n",
    ">Bài toán thể hiện được tính chất các bài toán con gối nhau và có cấu trúc con tối ưu nên Dynamic programming sẽ được áp dụng để giải bài toán.\n",
    "\n",
    "Initialization:\n",
    "\n",
    "Input:\n",
    "\n",
    ">p: string, chuỗi kí tự, chuỗi không quá 105 kí tự.\n",
    "\n",
    ">a: int, index bắt đầu của chuỗi thứ nhất cần so sánh.\n",
    "\n",
    ">b: int, index kết thúc của chuỗi thứ nhất cần so sánh.\n",
    "\n",
    ">c: int, index bắt đầu của chuỗi thứ hai cần so sánh.\n",
    "\n",
    ">d: int, index kết thúc của chuỗi thứ hai cần so sánh.\n",
    "\n",
    "Output:\n",
    "\n",
    ">YES'/'NO': boolean hoặc binary, kết quả của việc so sánh, YES: 2 chuỗi con tương đương, NO: 2 chuỗi con không tương đương.\n",
    "\n"
   ],
   "cell_type": "markdown",
   "metadata": {}
  }
 ]
}