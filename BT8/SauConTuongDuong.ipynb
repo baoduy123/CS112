{
 "metadata": {
  "language_info": {
   "codemirror_mode": {
    "name": "ipython",
    "version": 3
   },
   "file_extension": ".py",
   "mimetype": "text/x-python",
   "name": "python",
   "nbconvert_exporter": "python",
   "pygments_lexer": "ipython3",
   "version": "3.8.5-final"
  },
  "orig_nbformat": 2,
  "kernelspec": {
   "name": "python3",
   "display_name": "Python 3.8.5 64-bit",
   "metadata": {
    "interpreter": {
     "hash": "1c69b033b16f8a02ea3bf503dea2651c882f92e69cc7e4ebeb0f420b1087b7b6"
    }
   }
  }
 },
 "nbformat": 4,
 "nbformat_minor": 2,
 "cells": [
  {
   "source": [
    "## **XÂU CON TƯƠNG ĐƯƠNG**\n",
    "\n",
    "Cho xâu s chỉ chứa các ký tự la tinh thường độ dài n không quá 105. Ký hiệu s[i..j] là xâu con các ký tự liên tiếp nhau của s từ vị trí i đến vị trí j. Hai xâu con x = s[a..b] và y = s[c..d] được gọi là cùng một lớp tương đương nếu có cách đổi chỗ các ký tự trong một xâu để nhận được xâu kia. Các vị trí được đánh số từ 1 trở đi.\n",
    "\n",
    "Ví dụ với s = “abcbacaac”, s[1..3] tương đương với s[4..6], còn s[1..3] không tương đương với s[5..7].\n",
    "\n",
    "Cho q truy vấn, mỗi truy vấn là 4 số nguyên a, b, c, d xác định các xâu con x và y. Với mỗi truy vấn hãy xác định hai xâu con này có cùng một lớp tương đương hay không và đưa ra câu trả lời tương ứng “YES” hoặc “NO”."
   ],
   "cell_type": "markdown",
   "metadata": {}
  },
  {
   "source": [
    "## **1. Tóm tắt bài toán**\n",
    "So sánh 2 chuỗi mà không so sánh vị trí của các chuỗi con của chúngchúng."
   ],
   "cell_type": "markdown",
   "metadata": {}
  },
  {
   "source": [
    "## **2. Nhận diện mẫu**\n",
    "So sánh 2 dữ liệu tương tự nhau có hàm băm mật mã giống nhau."
   ],
   "cell_type": "markdown",
   "metadata": {}
  },
  {
   "source": [
    "## **3. Thiết kế thuật toán**\n",
    "Pseudocode:\n",
    "    Input:\n",
    "        p: string array, chuỗi kí tự, "
   ],
   "cell_type": "code",
   "metadata": {},
   "execution_count": null,
   "outputs": []
  }
 ]
}