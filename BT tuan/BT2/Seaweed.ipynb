{
  "nbformat": 4,
  "nbformat_minor": 0,
  "metadata": {
    "colab": {
      "name": "Seaweed.ipynb",
      "provenance": [],
      "collapsed_sections": []
    },
    "kernelspec": {
      "name": "python3",
      "display_name": "Python 3"
    }
  },
  "cells": [
    {
      "cell_type": "code",
      "metadata": {
        "id": "KqCZVnVxARFH",
        "colab": {
          "base_uri": "https://localhost:8080/",
          "height": 50
        },
        "outputId": "ec942b48-4cd7-4be7-c4ba-4a3ce56c83a9"
      },
      "source": [
        "arr = list(map(int, input().split()))\n",
        "mod = int(1e9+7)\n",
        "def F_memo(n, memo):\n",
        "    memo[1]=memo[2]=1  #base case\n",
        "    for i in range(3,n+1):\n",
        "      memo[i]=(memo[i-1]+memo[i-2])%mod \n",
        "    return memo[n] # tính số fibonacci thứ n + 1\n",
        "def F(n):\n",
        "\tmemo = [None] * (n + 1) # tạo mảng n + 1 phần tử có giá trị None\n",
        "\treturn F_memo(n, memo)\n",
        "k = 2*(arr[1]) + 1 # lấy số những vị trí lẻ\n",
        "y = F(k)*arr[0] % mod # lấy số fibonacci nhân với số cá thể tảo ban đầu\n",
        "print(y)"
      ],
      "execution_count": null,
      "outputs": [
        {
          "output_type": "stream",
          "text": [
            "3 2\n",
            "15\n"
          ],
          "name": "stdout"
        }
      ]
    },
    {
      "cell_type": "code",
      "metadata": {
        "id": "ArryNStSVptv",
        "colab": {
          "base_uri": "https://localhost:8080/"
        },
        "outputId": "105bb657-7b34-46a1-adae-186a3a8de5d8"
      },
      "source": [
        "import numpy as np\r\n",
        "Matrix = np.matrix\r\n",
        "\r\n",
        "MOD = 10 ** 9 + 7\r\n",
        "\r\n",
        "def power(mat: Matrix, n: int) -> Matrix:\r\n",
        "    res = np.identity(len(mat), dtype=np.int64)\r\n",
        "\r\n",
        "    while n:\r\n",
        "        if n & 1:\r\n",
        "            np.matmul(res, mat, out=res)\r\n",
        "            res %= MOD\r\n",
        "\r\n",
        "        np.matmul(mat, mat, out=mat)\r\n",
        "        mat %= MOD # Required for numpy if you want correct results\r\n",
        "        n >>= 1\r\n",
        "\r\n",
        "    return res\r\n",
        "\r\n",
        "\r\n",
        "def fib(n: int) -> int:\r\n",
        "    if n == 0:\r\n",
        "        return 0\r\n",
        "\r\n",
        "    magic = np.matrix([[1, 1], [1, 0]], dtype=np.int64)\r\n",
        "    mat = power(magic, n - 1)\r\n",
        "    return mat[0,0]\r\n",
        "\r\n",
        "\r\n",
        "arr = list(map(int, input().split()))\r\n",
        "k = 2*(arr[1]) + 1\r\n",
        "y = fib(k)*arr[0] % MOD\r\n",
        "print(y)"
      ],
      "execution_count": 5,
      "outputs": [
        {
          "output_type": "stream",
          "text": [
            "3 2\n",
            "15\n"
          ],
          "name": "stdout"
        }
      ]
    }
  ]
}