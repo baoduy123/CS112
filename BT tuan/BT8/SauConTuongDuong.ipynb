{
 "metadata": {
  "language_info": {
   "codemirror_mode": {
    "name": "ipython",
    "version": 3
   },
   "file_extension": ".py",
   "mimetype": "text/x-python",
   "name": "python",
   "nbconvert_exporter": "python",
   "pygments_lexer": "ipython3",
   "version": "3.8.5-final"
  },
  "orig_nbformat": 2,
  "kernelspec": {
   "name": "python3",
   "display_name": "Python 3.8.5 64-bit",
   "metadata": {
    "interpreter": {
     "hash": "1c69b033b16f8a02ea3bf503dea2651c882f92e69cc7e4ebeb0f420b1087b7b6"
    }
   }
  }
 },
 "nbformat": 4,
 "nbformat_minor": 2,
 "cells": [
  {
   "source": [
    "## **XÂU CON TƯƠNG ĐƯƠNG**\n",
    "---\n",
    "Cho xâu s chỉ chứa các ký tự la tinh thường độ dài n không quá 10^5. Ký hiệu s[i..j] là xâu con các ký tự liên tiếp nhau của s từ vị trí i đến vị trí j. Hai xâu con x = s[a..b] và y = s[c..d] được gọi là cùng một lớp tương đương nếu có cách đổi chỗ các ký tự trong một xâu để nhận được xâu kia. Các vị trí được đánh số từ 1 trở đi.\n",
    "\n",
    "Ví dụ với s = “abcbacaac”, s[1..3] tương đương với s[4..6], còn s[1..3] không tương đương với s[5..7].\n",
    "\n",
    "Cho q truy vấn, mỗi truy vấn là 4 số nguyên a, b, c, d xác định các xâu con x và y. Với mỗi truy vấn hãy xác định hai xâu con này có cùng một lớp tương đương hay không và đưa ra câu trả lời tương ứng “YES” hoặc “NO”.\n",
    "\n",
    "**Dữ liệu:** Vào từ thiết bị nhập chuẩn:\n",
    "\n",
    "Dòng đầu tiên chứa xâu s,\n",
    "\n",
    "Dòng thứ 2 chứa số nguyên q (1 ≤  q  ≤ 10^5),\n",
    "\n",
    "Mỗi dòng trong q dòng tiếp theo chứa 4 số nguyên a, b, c, d (1 ≤ a ≤ b ≤ n, 1 ≤ c ≤ d ≤ n).\n",
    "\n",
    "**Kết quả:** Đưa ra thiết bị xuất chuẩn các câu trả lời xác định được cho mỗi truy vấn, mỗi câu trả lời trên một dòng."
   ],
   "cell_type": "markdown",
   "metadata": {}
  },
  {
   "source": [
    "## **1. Tóm tắt bài toán (Abstraction)**\n",
    "---\n",
    "So sánh 2 chuỗi mà không so sánh vị trí của các chuỗi con của chúng."
   ],
   "cell_type": "markdown",
   "metadata": {}
  },
  {
   "source": [
    "## **2. Nhận diện mẫu (Pattern recognization)**\n",
    "---\n",
    "So sánh 2 dữ liệu tương tự nhau có hash giống nhau.\n",
    "\n",
    "**Ý tưởng:**\n",
    "\n",
    ">Kỹ thuật Hashing: Trong bảng mã Unicode, mỗi kí tự được đại diện bằng một số nguyên (gọi số này là trọng số), ta sử dụng tổng các số nguyên giữa 2 chuỗi để so sánh. Tuy nhiên, ta cần tìm trọng số của của các kí tự đó đủ lớn sao cho trọng số các tổng trọng số của các chuỗi không tương tương tự nhau là khác nhau:\n",
    "\n",
    ">>**hash(kí_tự) = trọng_số ^ 3**\n",
    "\n",
    ">Sau khi đã có trọng số của từng kí tự trong 2 chuỗi, ta so sánh tổng trọng số của mỗi chuỗi con."
   ],
   "cell_type": "markdown",
   "metadata": {}
  },
  {
   "source": [
    "## **3. Thiết kế thuật toán**\n",
    "---\n",
    "**DYNAMIC PROGRAMMING**\n",
    ">Bài toán thể hiện được tính chất các bài toán con gối nhau và có cấu trúc con tối ưu nên Dynamic programming sẽ được áp dụng để giải bài toán.\n",
    "\n",
    "Initialization:\n",
    "\n",
    ">H = [0], int array, chứa trọng số của từng kí tự trong chuỗi, khởi tạo giá trị đầu tiên là 0 (index bắt đầu: 0, index kết thúc: n-1, n là số phần tử)\n",
    "\n",
    "Input:\n",
    "\n",
    ">s: string, chuỗi kí tự, chuỗi không quá 10^5 kí tự. (index bắt đầu: 0, index kết thúc: n-1, n là số phần tử)\n",
    "\n",
    ">a: int, index bắt đầu của chuỗi thứ nhất cần so sánh.\n",
    "\n",
    ">b: int, index kết thúc của chuỗi thứ nhất cần so sánh.\n",
    "\n",
    ">c: int, index bắt đầu của chuỗi thứ hai cần so sánh.\n",
    "\n",
    ">d: int, index kết thúc của chuỗi thứ hai cần so sánh.\n",
    "\n",
    ">p: int, số lần xét các cặp chuỗi con.\n",
    "\n",
    "Output:\n",
    "\n",
    ">'YES'/'NO': boolean hoặc binary, kết quả của việc so sánh, YES: 2 chuỗi con tương đương, NO: 2 chuỗi con không tương đương.\n",
    "\n",
    "Temporary variables:\n",
    "\n",
    ">x: char, kí tự đang xét để lấy mã Unicode\n",
    "\n",
    "Điều kiện (Conditions/ constraints)):\n",
    "\n",
    ">1 ≤ a ≤ b ≤ n, 1 ≤ c ≤ d ≤ n\n",
    "\n",
    ">0 ≤ len(s) ≤ 10^5 (len(s) là độ dài của chuỗi s)\n",
    "\n",
    ">1 ≤ q ≤ 10^5\n",
    "\n",
    "Pseudocode:\n",
    "\n",
    ">function gen_hash(x): // tìm trọng số cho kí tự x\n",
    ">\n",
    ">>return <mã Unicode của x> ^ 3\n",
    ">\n",
    ">function gen_hash_table(H, s): // tạo bảng hash\n",
    ">\n",
    ">>for i:=0 to len(s)-1:\n",
    ">\n",
    ">>>append (H[last_index] + gen_hash(s[i])) to H // H[last_index] là phần tử cuối cùng hiện tại của mảng\n",
    ">\n",
    ">function get_hash(start, end, H): // tìm tổng trọng số của chuỗi\n",
    ">\n",
    ">>return H[end] - H[start]\n",
    ">\n",
    ">function main(p, H): //driver code\n",
    ">\n",
    ">>gen_hash_table(H, s)\n",
    ">\n",
    ">>for i:=0 to p-1:\n",
    ">\n",
    ">>>input a, b, c, d\n",
    ">\n",
    ">>>if get_hash(a, b, H) == get_hash(c, d, H):\n",
    ">\n",
    ">>>>output 'YES'\n",
    ">\n",
    ">>>else:\n",
    ">\n",
    ">>>>output 'NO'\n",
    "\n",
    "Code (Python):"
   ],
   "cell_type": "markdown",
   "metadata": {}
  },
  {
   "cell_type": "code",
   "execution_count": null,
   "metadata": {},
   "outputs": [],
   "source": [
    "from sys import stdin, stdout\n",
    "\n",
    "s = stdin.readline().strip()\n",
    "\n",
    "n = len(s)\n",
    "H = [0]\n",
    "\n",
    "def gen_hash(c):\n",
    "    return ord(c)**3\n",
    "def get_hash(l,r):\n",
    "    return H[r]-H[l-1]\n",
    "\n",
    "for c in s:\n",
    "    H.append(H[-1]+gen_hash(c))\n",
    "\n",
    "p = int(input())\n",
    "for _ in range(p):\n",
    "    a,b,c,d = map(int, stdin.readline().split())\n",
    "    if get_hash(a,b)==get_hash(c,d):\n",
    "        print(\"YES\")\n",
    "    else:\n",
    "        print(\"NO\")"
   ]
  },
  {
   "source": [
    "Time complexity: O(n)\n",
    "\n",
    ">Bước khởi tạo: O(1)\n",
    ">\n",
    ">Bước tạo bảng hash: O(n)\n",
    ">\n",
    ">=> Time complexity là O(n) + O(1) = O(n)"
   ],
   "cell_type": "markdown",
   "metadata": {}
  }
 ]
}