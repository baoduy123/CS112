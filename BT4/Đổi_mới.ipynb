{
  "nbformat": 4,
  "nbformat_minor": 0,
  "metadata": {
    "colab": {
      "name": "Đổi mới.ipynb",
      "provenance": []
    },
    "kernelspec": {
      "name": "python3",
      "display_name": "Python 3"
    }
  },
  "cells": [
    {
      "cell_type": "code",
      "metadata": {
        "id": "9Ui78kufHkRy",
        "outputId": "8fb410b6-db40-4304-db29-10046448672d",
        "colab": {
          "base_uri": "https://localhost:8080/",
          "height": 50
        }
      },
      "source": [
        "a,k,b,m,n = map(int,input().split())\n",
        "x = 0\n",
        "y = int(1e18)\n",
        "while x <= y:\n",
        "\tavg = (x+y)//2\n",
        "\tif a*(avg-avg//k)+b*(avg-avg//m) >= n:\n",
        "\t\ti = avg\n",
        "\t\ty = avg - 1\n",
        "\telse:\n",
        "\t\tx = avg + 1\n",
        "print(i)"
      ],
      "execution_count": 1,
      "outputs": [
        {
          "output_type": "stream",
          "text": [
            "2 4 3 3 25\n",
            "7\n"
          ],
          "name": "stdout"
        }
      ]
    }
  ]
}