{
  "nbformat": 4,
  "nbformat_minor": 0,
  "metadata": {
    "colab": {
      "name": "Đổi mới.ipynb",
      "provenance": []
    },
    "kernelspec": {
      "name": "Python 3.7.8 64-bit",
      "display_name": "Python 3.7.8 64-bit",
      "metadata": {
        "interpreter": {
          "hash": "57baa5815c940fdaff4d14510622de9616cae602444507ba5d0b6727c008cbd6"
        }
      }
    }
  },
  "cells": [
    {
      "source": [
        "## ĐỔI MỚI\n",
        "\n",
        "* Thành phố quyết định chặt hạ hết n cây xanh hiện có trong thành phố để trồng chỉ một loại cây mới. Nhiệm vụ được giao cho Công ty Cây xanh thành phố. Do hạn chế về thiết bị Công ty chỉ tổ chức được 2 đội đốn hạ cây. Đội I hạ được a cây mỗi ngày, nhưng cứ mối ngày thứ k thì phải nghỉ để bảo dưỡng kỹ thuật, tức là đội I sẽ nghỉ vào các ngày k, 2k, 3k, . . . Đội II hạ được b cây mỗi ngày, nhưng cứ mỗi ngày thứ m thì phải nghỉ để bảo dưỡng kỹ thuật, tức là đội II sẽ nghỉ vào các ngày m, 2m, 3m, . . . Ở ngày nghỉ, số cây chặt hạ của đội sẽ là 0. Cả hai đội bắt đầu công việc vào cùng một ngày và làm việc song song với nhau.\n",
        "\n",
        "* Công việc trồng cây mới sẽ bắt đầu sau khi toàn bộ cây cũ đã bị đốn hạ.\n",
        "\n",
        "* Hãy xác định sau bao nhiêu ngày thì có thể bắt đầu việc trồng mới cây.\n",
        "\n",
        "* Dữ liệu: Vào từ thiết bị nhập chuẩn gồm một dòng chứa 5 số nguyên a, k, b, m và n (1 ≤ a, b ≤ 10^9, 2 ≤ k, m ≤ 10^18, 1 ≤ n ≤ 10^18).\n",
        "\n",
        "* Kết quả: Đưa ra thiết bị xuất chuẩn một số nguyên – số ngày tính được."
      ],
      "cell_type": "markdown",
      "metadata": {}
    },
    {
      "source": [
        "## Abstraction (Tóm tắt bài toán):\n",
        "* Gọi x cần tìm là số ngày để hạ chặt hạ hết cây\n",
        "* Ta có:\n",
        "    - round($\\frac{k}{n}$) là số ngày nghỉ của đội I\n",
        "    - Số cây đốn hạ được là ($x - round(\\frac{k}{n})$)*a là số ngày nghỉ của đội I (1)\n",
        "* Tương tự với đội II ta có:\n",
        "    - round($\\frac{k}{m}$)\n",
        "    - Số cây đốn hạ được là ($x - round(\\frac{k}{n})$)*b (2)\n",
        "* Từ (1) và (2):\n",
        "    - $x((1-\\frac{1}{k})*a+(1-\\frac{1}{m})*b)){\\ge}n$ (3)\n",
        "* Từ (1), (2) và (3):\n",
        "    - $x{\\ge}\\frac{n}{(1-\\frac{1}{k})*a+(1-\\frac{1}{m})*b}$ (4)\n",
        "* Vậy ta cần tìm x nhỏ nhất sao cho thỏa điều kiện (4)\n",
        "## "
      ],
      "cell_type": "markdown",
      "metadata": {}
    },
    {
      "cell_type": "code",
      "metadata": {
        "id": "9Ui78kufHkRy",
        "outputId": "8fb410b6-db40-4304-db29-10046448672d",
        "colab": {
          "base_uri": "https://localhost:8080/",
          "height": 50
        }
      },
      "source": [
        "a,k,b,m,n = map(int,input().split())\n",
        "x = 0\n",
        "y = int(1e18)\n",
        "while x <= y:\n",
        "\tavg = (x+y)//2\n",
        "\tif a*(avg-avg//k)+b*(avg-avg//m) >= n:\n",
        "\t\ti = avg\n",
        "\t\ty = avg - 1\n",
        "\telse:\n",
        "\t\tx = avg + 1\n",
        "print(i)"
      ],
      "execution_count": 1,
      "outputs": [
        {
          "output_type": "stream",
          "text": [
            "2 4 3 3 25\n",
            "7\n"
          ],
          "name": "stdout"
        }
      ]
    }
  ]
}