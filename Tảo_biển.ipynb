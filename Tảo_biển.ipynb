{
  "nbformat": 4,
  "nbformat_minor": 0,
  "metadata": {
    "colab": {
      "name": "Tảo biển.ipynb",
      "provenance": []
    },
    "kernelspec": {
      "name": "python3",
      "display_name": "Python 3"
    }
  },
  "cells": [
    {
      "cell_type": "code",
      "metadata": {
        "id": "KqCZVnVxARFH",
        "colab_type": "code",
        "colab": {
          "base_uri": "https://localhost:8080/",
          "height": 50
        },
        "outputId": "a806cf2b-401c-4e09-d863-0bf8238cb24e"
      },
      "source": [
        "arr = list(map(int, input().split()))\n",
        "def Fibonacci(n):\n",
        "   if n <= 1:\n",
        "       return n\n",
        "   else:\n",
        "       return(Fibonacci(n-1) + Fibonacci(n-2))\n",
        "\n",
        "k = 2*(arr[1]) + 1\n",
        "y = Fibonacci(k)*arr[0]\n",
        "print(y)"
      ],
      "execution_count": 21,
      "outputs": [
        {
          "output_type": "stream",
          "text": [
            "3 3\n",
            "39\n"
          ],
          "name": "stdout"
        }
      ]
    }
  ]
}