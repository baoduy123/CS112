{
  "nbformat": 4,
  "nbformat_minor": 0,
  "metadata": {
    "colab": {
      "name": "Tảo biển.ipynb",
      "provenance": []
    },
    "kernelspec": {
      "name": "python3",
      "display_name": "Python 3"
    }
  },
  "cells": [
    {
      "cell_type": "code",
      "metadata": {
        "id": "KqCZVnVxARFH",
        "colab_type": "code",
        "colab": {
          "base_uri": "https://localhost:8080/",
          "height": 50
        },
        "outputId": "b4a9fc4c-f986-43ed-ff30-32d25f96e631"
      },
      "source": [
        "arr = list(map(int, input().split()))\n",
        "def F_memo(n, memo):\n",
        "    if n == 1 or n == 2: \n",
        "        return 1\n",
        "    if not memo[n] == None:\n",
        "    \treturn memo[n]\n",
        "    result = F_memo(n - 1, memo) + F_memo(n - 2, memo) \n",
        "    memo[n] = result \n",
        "    return result\n",
        "def F(n):\n",
        "\tmemo = [None] * (n + 1)\n",
        "\treturn F_memo(n, memo)\n",
        "k = 2*(arr[1]) + 1\n",
        "y = Fibonacci(k)*arr[0]\n",
        "print(y)"
      ],
      "execution_count": 33,
        }
      ]
    }
  ]
}
