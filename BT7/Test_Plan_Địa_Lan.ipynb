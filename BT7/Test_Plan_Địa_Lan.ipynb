{
  "nbformat": 4,
  "nbformat_minor": 0,
  "metadata": {
    "colab": {
      "name": "Test Plan Địa Lan.ipynb",
      "provenance": [],
      "collapsed_sections": []
    },
    "kernelspec": {
      "name": "python3",
      "display_name": "Python 3"
    }
  },
  "cells": [
    {
      "cell_type": "markdown",
      "metadata": {
        "id": "t52nrbgYhCPo"
      },
      "source": [
        "# Test Plan Địa Lan\n",
        "\n",
        "### 1. Tìm Edge Cases bài toán:\n",
        "\n",
        "*   Biên nhỏ\n",
        "*   Biên lớn\n",
        "*   Input k nhỏ\n",
        "*   Mảng không chứa kết quả sau khi duyệt\n",
        "\n",
        "### 2. Tạo các Cases:\n",
        "*   Các Simple Cases\n",
        "*   Brute Force (Tìm càng nhiều trường hợp có thể càng tốt)\n",
        "*   Các testcase nằm trong folder kèm theo trên github\n",
        "\n"
      ]
    },
    {
      "cell_type": "code",
      "metadata": {
        "id": "M8xyf-optX0_"
      },
      "source": [
        ""
      ],
      "execution_count": null,
      "outputs": []
    },
    {
      "cell_type": "markdown",
      "metadata": {
        "id": "Vv5ZGOwbjVyB"
      },
      "source": [
        "### I. Edge Cases: \n",
        "1) Biên nhỏ:\n",
        "- Với n = k = 1, nếu a = 0 thì output = \"YES\" \n",
        "(testcase27)\n",
        "- Với n = k = 1, nếu a != 0 thì output = \"NO\" <br>\n",
        "n=1 k=1 a=1400 (testcase23)\n",
        "\n",
        "2) Biên lớn:\n",
        "- Theo nhận xét thấy để output = \"YES\" thì phải duyệt mảng xem các phần tử AND với nhau có bằng 0. Nếu có mới xét tới số phần tử nhỏ hơn bằng k <br>\n",
        "Generate từ code\n",
        "\n",
        "3) Input k nhỏ: <br>\n",
        "n = 8, k = 7 <br>\n",
        "1 1 1 1 1 1 0 - 254 <br>\n",
        "1 1 1 1 1 0 1 - 253 <br>\n",
        "1 1 1 1 0 1 1 - 251 <br>\n",
        "1 1 1 0 1 1 1 - 247 <br>\n",
        "1 1 0 1 1 1 1 - 239 <br>\n",
        "1 0 1 1 1 1 1 - 191 <br>\n",
        "0 1 1 1 1 1 1 - 127 <br>\n",
        "Output: \"NO\" (testcase30)\n",
        "\n",
        "4) Mảng không chứa kết quả sau khi duyệt <br>\n",
        "n=5, k=5 <br>\n",
        "1 0 0 0 0 - 16 <br>\n",
        "1 0 1 1 1 - 23 <br>\n",
        "1 1 1 1 1 - 31 <br>\n",
        "1 0 1 0 1 - 21 <br>\n",
        "1 1 1 0 1 - 29 <br>\n",
        "Output: \"NO\" (testcase28)"
      ]
    },
    {
      "cell_type": "markdown",
      "metadata": {
        "id": "xDb3K9fCm6Wi"
      },
      "source": [
        "### II. Tạo các cases\n",
        "<p>Nhóm giải quyết bài toán trước để tìm thuật toán tốt, dùng nó để generate các cases test</p>\n",
        "* Yes:\n",
        "<ul> \n",
        "  <li>test1 - test4: (1<=n<=100), (0 <= a <= 2^12)\n",
        "  <li>test5: (100<=n<=200), (0 <= a <= 2^12)\n",
        "  <li>test6 - test7: (100<=n<=1000), (0 <= a <= 2^12)\n",
        "  <li>test8: (10000<= n<= 20000), (0 <= a <= 2^12)\n",
        "  <li>test9 - test10: (1<=n<=200), (0 <= a <= 2^6)\n",
        "  <li>test11 - test12: (500<=n<=1000), (0 <= a <= 2^6)\n",
        "  <li>test13: (100 <= n <= 1000), (2^7 <= a <=2^12)\n",
        "  <li>test14 - test16: (1 <= n <= 30), (2^7 <= a <=2^12)\n",
        "  <li>test17: (10000<= n<= 20000), (2^7 <= a <=2^12)\n",
        "</ul>\n",
        "* No:\n",
        "<ul>\n",
        "  <li>test18 - test19: (1<=n<=10) (0<=a<=4096) Overflow (Mảng không chứa kết quả)\n",
        "  <li>test20 - test21: (1<=n<=20) (0<=a<=4096) Overflow\n",
        "  <li>test22: (1<=n<=20) (0<=a<=4096) k (input k nhỏ)\n",
        "  <li>test23 - test24: (1 <= n <= 30), (2^10 <= a <= 2^12) Overflow\n",
        "  <li>test25 - test26: (1 <= n <= 30), (2^7 <= a <= 2^12) k\n",
        "  <li>test27 - test30: Specific Edge Cases\n",
        "</ul>\n"
      ]
    },
    {
      "cell_type": "code",
      "metadata": {
        "id": "nweZwslenZTe"
      },
      "source": [
        "# Generate các case bằng thuật toán, không bàn đến độ phức tạp\n",
        "\n",
        "def YESorNO(k, a):\n",
        "\n",
        "    def number_bit_zero(x,mask):\n",
        "        cnt = 0\n",
        "        for pos in range(12):\n",
        "            if (x >> pos) & 1 == 0 and (mask >> pos) & 1 == 1:\n",
        "                cnt += 1\n",
        "        return cnt\n",
        "\n",
        "    mask = (1 << 12) - 1\n",
        "\n",
        "    cnt = 0\n",
        "    for pos in range(12):\n",
        "        if (mask >> pos) & 1 == 1:\n",
        "            tmp = -1\n",
        "            for x in a:\n",
        "                if (x >> pos) & 1 == 0 :\n",
        "                    tmp_zero = number_bit_zero(mask & x,mask)\n",
        "                    if tmp_zero > tmp:\n",
        "                        tmp = tmp_zero\n",
        "                        arg = x\n",
        "            if (tmp == -1):\n",
        "                print('NO')\n",
        "                return 2\n",
        "\n",
        "            cnt += 1\n",
        "            mask &= arg\n",
        "            if (mask == 0): break\n",
        "\n",
        "    if cnt <= k:\n",
        "        print('Yes')\n",
        "        return 1\n",
        "    else:\n",
        "        return 0\n",
        "  \n"
      ],
      "execution_count": null,
      "outputs": []
    },
    {
      "cell_type": "code",
      "metadata": {
        "id": "rZJDdrhonuiv"
      },
      "source": [
        "# Tên File cho 3 trường hợp output: YES, NO (k), NO (Overflow)\n",
        "count1 = 1\n",
        "count2 = 1\n",
        "count = 1\n",
        "\n",
        "# Số sample cases được Generate\n",
        "RUN = 20\n",
        "\n",
        "# Điều kiện ai\n",
        "lowerBound = 0\n",
        "upperBound = 4096\n",
        "\n",
        "# Điều kiện n\n",
        "minSize = 1\n",
        "maxSize = 20000\n",
        "\n",
        "for i in range(RUN):\n",
        "    arr = []\n",
        "    size = random.randrange(0,maxSize - minSize) + minSize\n",
        "    if (size != 1):\n",
        "        k = random.randrange(1,size)\n",
        "    else:\n",
        "        k = random.randrange(0,size)\n",
        "    array = [0]*size\n",
        "\n",
        "    for j in range(size):\n",
        "        a = random.randrange(0,upperBound - lowerBound) + lowerBound\n",
        "        arr.append(a)\n",
        "    flag = YESorNO(k,arr)\n",
        "\n",
        "    if flag == 0:\n",
        "        f = open('./No/k/Testcase' + str(count1) + '.txt', 'a')\n",
        "        f.write(str(size))\n",
        "        f.write(\" \")\n",
        "        f.write(str(k))\n",
        "        f.write('\\n')\n",
        "        for z in arr:\n",
        "            f.write(str(z))\n",
        "            f.write(' ')\n",
        "        f.close()\n",
        "        count1 += 1\n",
        "    if flag == 1:\n",
        "        f = open('./Yes/Testcase' + str(count) + '.txt', 'a')\n",
        "        f.write(str(size))\n",
        "        f.write(\" \")\n",
        "        f.write(str(k))\n",
        "        f.write('\\n')\n",
        "        for z in arr:\n",
        "            f.write(str(z))\n",
        "            f.write(' ')\n",
        "        f.close()\n",
        "        count += 1 \n",
        "    if flag == 2:\n",
        "        f = open('./No/Overflow/Testcase' + str(count2) + '.txt', 'a')\n",
        "        f.write(str(size))\n",
        "        f.write(\" \")\n",
        "        f.write(str(k))\n",
        "        f.write('\\n')\n",
        "        for z in arr:\n",
        "            f.write(str(z))\n",
        "            f.write(' ')\n",
        "        f.close()\n",
        "        count2 += 1\n"
      ],
      "execution_count": null,
      "outputs": []
    }
  ]
}