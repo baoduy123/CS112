{
  "nbformat": 4,
  "nbformat_minor": 0,
  "metadata": {
    "colab": {
      "name": "Khóa số.ipynb",
      "provenance": []
    },
    "kernelspec": {
      "name": "python3",
      "display_name": "Python 3"
    }
  },
  "cells": [
    {
      "cell_type": "markdown",
      "metadata": {
        "id": "WAUhtmVuAsZz"
      },
      "source": [
        "# 💻 Phân tích và Thiết kế thuật toán - CS112.L12.KHCL\n",
        "\n",
        "![](https://portal.uit.edu.vn/Styles/profi/images/logo186x150.png)\n",
        "\n",
        "\n",
        "+ Đinh Duyên Bảo Duy - 18520658\n",
        "\n",
        "+ Trần Minh Tiến - 18521492\n",
        "\n",
        "+ Trần Tuấn Vỹ - 18520406\n"
      ]
    },
    {
      "cell_type": "markdown",
      "metadata": {
        "id": "T1D1Or7C5ZfJ"
      },
      "source": [
        "## **Khóa số** ##\n",
        "\n",
        "* Để tăng độ an toàn chống hiện tượng cướp ngân hàng ngày càng phổ biến người ta dùng khóa số với mã mở khóa đơn giản nhưng rất hiệu quả. Trên cửa ra vào hiển thị một xâu khá dài các ký tự số. Các chữ số có thể di chuyển đổi chổ cho nhau hoặc bị xóa. Muốn mở khóa người ta phải di chuyển các chữ số và trong trường hợp cần thiết – xóa vài chữ số để nhận được xâu lớn nhất thỏa mãn điều kiện đã cài đặt. Điều kiện này được thay đổi thường xuyên. Hôm nay điều kiện đó là “Số nhận được phải chia hết cho 3”. Số nhận được có thể bắt đầu bằng các chữ số 0. Xâu “000” sẽ lớn hơn xâu “00”.\n",
        "* Hãy xác định khóa mở cửa\n",
        "* *Dữ liệu*: Vào từ thiết bị nhập chuẩn gồm một xâu ký tự số có độ dài lớn hơn 2 và không vượt quá 105.\n",
        "* *Kết quả*: Đưa ra thiết bị xuất chuẩn xâu khóa mở cửa.\n"
      ]
    },
    {
      "cell_type": "markdown",
      "metadata": {
        "id": "lA2yJElX7fdA"
      },
      "source": [
        "## 1. Tóm tắt bài toán (Abstraction): ##\n",
        "\n",
        "- Tìm xâu lớn nhất từ các số cho trước\n",
        "- Xâu lớn nhất đó chia hết cho 3\n",
        "\n",
        "\n"
      ]
    },
    {
      "cell_type": "markdown",
      "metadata": {
        "id": "ysk0HP618XyL"
      },
      "source": [
        "## 2. Nhận diện bài toán (Pattern recognition): ##\n",
        "* Tìm số lớn nhất chia hết cho 3"
      ]
    },
    {
      "cell_type": "markdown",
      "metadata": {
        "id": "LDk7xz4A7XL1"
      },
      "source": [
        "## 3. Thiết kế thuật toán (Algorithm designs): ##\n",
        "* Ý tưởng thuật toán: \n",
        "  * Để xâu input thành dạng list để xử lý theo phần tử, sắp xếp list đó giảm dần để có số lớn nhất, sau đó xét dấu hiệu chia hết cho 3 theo 2 trường hợp: 1 số dư và 2 số dư để loại số dư đó khỏi list, nếu chia hết cho 3 thì giữ nguyên.\n",
        "  * Trường hợp có 1 số dư k (k khác 0) thì số dư đó sẽ thuộc nhóm (k,3+k,6+k)\n",
        "  * Trường hợp số dư k (k khác 0) được tạo bởi 2 số dư thì 2 số đó % 3 dư (3-k)\n",
        "  * Kết quả là xâu tạo thành từ list.\n",
        "* **Input**:\n",
        "  * input_num: string, xâu ký tự cần nhập\n",
        "* **Temporary variables**:\n",
        "  * list_num: Chuyển xâu ký tự thành danh sách để tăng tốc độ tính\n",
        "  * int_num: Chuyển xâu ký tự thành int để xét phép chia\n",
        "  * count2: Biến đếm cho 2 số dư cần tìm\n",
        "  * i: Biến đếm vòng lặp\n",
        "  * k: Số dư\n",
        "* **Output**: Xâu lớn nhất tạo từ các số chia hết cho 3\n",
        "\n",
        "* Điều kiện (Conditions/ constraints):\n",
        "  * 2 < input <= 10^5\n",
        "- Pseudocode:\n",
        "\n",
        "```\n",
        "function maxStringNumberDivisibleByThree(list_num,k):\n",
        "  if list_num has k \n",
        "  then\n",
        "    remove_from_list_by_index(k)\n",
        "  else if list_num has (3+k) \n",
        "  then\n",
        "    remove_from_list_by_index(3+k)\n",
        "  else if list_num has (6+k) \n",
        "  then\n",
        "    remove_from_list_by_index(6+k)\n",
        "  \n",
        "  else\n",
        "    i := length(list_num)\n",
        "    while (count2 != 2) \n",
        "    then\n",
        "      if list_num[i] % 3 != 0 \n",
        "      then\n",
        "        remove_from_list_by_index(list_num[i])\n",
        "        count2 = count2 + 1\n",
        "      i = i - 1\n",
        "  return list_num\n",
        "\n",
        "if int_num % 3 == 1 \n",
        "then\n",
        "  maxStringNumberDivisibleByThree(list_num,1)\n",
        "else if int_num % 3 == 2\n",
        "then \n",
        "  maxStringNumberDivisibleByThree(list_num,2)\n",
        "\n",
        "print(string(list_num))\n",
        "```\n",
        "\n"
      ]
    },
    {
      "cell_type": "code",
      "metadata": {
        "id": "LBymCsm1TmaU",
        "outputId": "ebcb6601-bd4e-4598-c8ed-f2cd0c6ab6ed",
        "colab": {
          "base_uri": "https://localhost:8080/",
          "height": 50
        }
      },
      "source": [
        "input_num = input().strip()\n",
        "\n",
        "list_num = list(input_num)\n",
        "int_num = int(input_num)\n",
        "list_num.sort(reverse= True)\n",
        "\n",
        "\n",
        "def removeMin(num,k):\n",
        "  # Nếu trong xâu có số bé nhất chia cho 3 dư k thì loại số đó \n",
        "  if str(k) in num: \n",
        "    del num[num.index(str(k))]\n",
        "    return num\n",
        "  elif str(3 + k) in num:\n",
        "    del num[num.index(str(3 + k))]\n",
        "    return num\n",
        "  elif str(6 + k) in num:\n",
        "    del num[num.index(str(6 + k))]\n",
        "    return num\n",
        "  # Sau khi không tìm thấy số nào chia 3 dư k, thì xâu rơi vào trường hợp 2 số bé nhất kết hợp với nhau thành 1 số mà chia 3 dư k\n",
        "  # Sau đó loại bỏ 2 số đó \n",
        "  else: \n",
        "    count2 = 0\n",
        "    i = len(num)-1\n",
        "    while (count2 != 2):\n",
        "      if int(num[i]) % 3 != 0:\n",
        "        del num[i]\n",
        "        count2 += 1\n",
        "      i -= 1\n",
        "    return num\n",
        "        \n",
        "if int_num % 3 == 1:\n",
        "  list_num = removeMin(list_num, 1)\n",
        "elif int_num % 3 == 2: \n",
        "  list_num = removeMin(list_num, 2)\n",
        "print(''.join(list_num))"
      ],
      "execution_count": null,
      "outputs": [
        {
          "output_type": "stream",
          "text": [
            "22222\n",
            "222\n"
          ],
          "name": "stdout"
        }
      ]
    },
    {
      "cell_type": "markdown",
      "metadata": {
        "id": "_XmjpilhCe2_"
      },
      "source": [
        "- Độ phức tạp thuật toán:\n",
        "    - Sử dụng method sort dựng sẵn của python có độ phức tạp O(NlogN)\n",
        "    - Sử dụng vòng lặp để loại bỏ số dư có độ phức tạp: O(N)\n",
        "    - => Độ phức tạp thuật toán của nhóm theo phép cộng là: O(N) + O(NlogN) = O(N)"
      ]
    }
  ]
}