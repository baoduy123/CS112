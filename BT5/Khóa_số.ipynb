{
  "nbformat": 4,
  "nbformat_minor": 0,
  "metadata": {
    "colab": {
      "name": "Khóa_số.ipynb",
      "provenance": [],
      "collapsed_sections": [],
      "authorship_tag": "ABX9TyPSt/lu/B0aYtIysf+idC5j",
      "include_colab_link": true
    },
    "kernelspec": {
      "name": "python3",
      "display_name": "Python 3"
    }
  },
  "cells": [
    {
      "cell_type": "markdown",
      "metadata": {
        "id": "view-in-github",
        "colab_type": "text"
      },
      "source": [
        "<a href=\"https://colab.research.google.com/github/baoduy123/CS112/blob/master/BT5/Kh%C3%B3a_s%E1%BB%91.ipynb\" target=\"_parent\"><img src=\"https://colab.research.google.com/assets/colab-badge.svg\" alt=\"Open In Colab\"/></a>"
      ]
    },
    {
      "cell_type": "code",
      "metadata": {
        "id": "wSGtlyHMC_EV"
      },
      "source": [
        "import sys\n",
        "input_num = sys.stdin.readline().strip()\n",
        "count = [0] * 10\n",
        "mod3 = [0] * 3\n",
        "sum = 0\n",
        "for x in input_num:\n",
        "    x = int(x)\n",
        "    sum = (sum + x) % 3\n",
        "    count[x] += 1\n",
        "    mod3[x%3] += 1\n",
        "    \n",
        "if sum % 3 == 1:\n",
        "    if mod3[1] > 0:\n",
        "        wdel = 1\n",
        "        for i in range(1,10,3):\n",
        "            ndel = min(wdel, count[i])\n",
        "            wdel -= ndel\n",
        "            count[i] -= ndel\n",
        "            if wdel == 0:\n",
        "                break\n",
        "    elif mod3[2] > 1:\n",
        "        wdel = 2\n",
        "        for i in range(2,10,3):\n",
        "            ndel = min(wdel, count[i])\n",
        "            wdel -= ndel\n",
        "            count[i] -= ndel\n",
        "            if wdel == 0:\n",
        "                break\n",
        "elif sum % 3 == 2:\n",
        "    if mod3[2] > 0:\n",
        "        wdel = 1\n",
        "        for i in range(2,10,3):\n",
        "            ndel = min(wdel, count[i])\n",
        "            wdel -= ndel\n",
        "            count[i] -= ndel\n",
        "            if wdel == 0:\n",
        "                break\n",
        "    elif mod3[1] > 1:\n",
        "        wdel = 2\n",
        "        for i in range(1,10,3):\n",
        "            ndel = min(wdel, count[i])\n",
        "            wdel -= ndel\n",
        "            count[i] -= ndel\n",
        "            if wdel == 0:\n",
        "                break\n",
        "sys.stdout.write(\"\".join([str(i)* count[i] for i in range(9,-1,-1)]))"
      ],
      "execution_count": null,
      "outputs": []
    }
  ]
}