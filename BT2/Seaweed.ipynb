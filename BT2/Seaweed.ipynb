{
  "nbformat": 4,
  "nbformat_minor": 0,
  "metadata": {
    "colab": {
      "name": "Tảo biển.ipynb",
      "provenance": []
    },
    "kernelspec": {
      "name": "python3",
      "display_name": "Python 3"
    }
  },
  "cells": [
    {
      "cell_type": "code",
      "metadata": {
        "id": "KqCZVnVxARFH",
        "colab_type": "code",
        "colab": {
          "base_uri": "https://localhost:8080/",
          "height": 50
        },
        "outputId": "ec942b48-4cd7-4be7-c4ba-4a3ce56c83a9"
      },
      "source": [
        "arr = list(map(int, input().split()))\n",
        "mod = int(1e9+7)\n",
        "def F_memo(n, memo):\n",
        "    memo[1]=memo[2]=1  #base case\n",
        "    for i in range(3,n+1):\n",
        "      memo[i]=(memo[i-1]+memo[i-2])%mod \n",
        "    return memo[n] # tính số fibonacci thứ n + 1\n",
        "def F(n):\n",
        "\tmemo = [None] * (n + 1) # tạo mảng n + 1 phần tử có giá trị None\n",
        "\treturn F_memo(n, memo)\n",
        "k = 2*(arr[1]) + 1 # lấy số những vị trí lẻ\n",
        "y = F(k)*arr[0] % mod # lấy số fibonacci nhân với số cá thể tảo ban đầu\n",
        "print(y)"
      ],
      "execution_count": 2,
      "outputs": [
        {
          "output_type": "stream",
          "text": [
            "3 2\n",
            "15\n"
          ],
          "name": "stdout"
        }
      ]
    }
  ]
}
