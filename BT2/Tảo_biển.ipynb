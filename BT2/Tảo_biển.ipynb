{
  "nbformat": 4,
  "nbformat_minor": 0,
  "metadata": {
    "colab": {
      "name": "Tảo biển.ipynb",
      "provenance": []
    },
    "kernelspec": {
      "name": "python3",
      "display_name": "Python 3"
    }
  },
  "cells": [
    {
      "cell_type": "code",
      "metadata": {
        "id": "KqCZVnVxARFH",
        "colab_type": "code",
        "colab": {
          "base_uri": "https://localhost:8080/",
          "height": 50
        },
        "outputId": "99a0675e-c42d-4fdc-ea59-da9f9367b01a"
      },
      "source": [
        "arr = list(map(int, input().split()))\n",
        "mod = int(1e9+7)\n",
        "def F_memo(n, memo):\n",
        "    memo[1]=memo[2]=1\n",
        "    for i in range(3,n+1):\n",
        "      memo[i]=(memo[i-1]+memo[i-2])%mod\n",
        "    return memo[n]\n",
        "def F(n):\n",
        "\tmemo = [None] * (n + 1)\n",
        "\treturn F_memo(n, memo)\n",
        "k = 2*(arr[1]) + 1\n",
        "y = F(k)*arr[0] % mod\n",
        "print(y)"
      ],
      "execution_count": 48,
      "outputs": [
        {
          "output_type": "stream",
          "text": [
            "3 2\n",
            "15\n"
          ],
          "name": "stdout"
        }
      ]
    }
  ]
}
