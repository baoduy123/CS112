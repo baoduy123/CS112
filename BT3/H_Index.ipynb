{
  "nbformat": 4,
  "nbformat_minor": 0,
  "metadata": {
    "colab": {
      "name": "H-Index.ipynb",
      "provenance": []
    },
    "kernelspec": {
      "name": "python3",
      "display_name": "Python 3"
    }
  },
  "cells": [
    {
      "cell_type": "code",
      "metadata": {
        "id": "23GdLnpLbMIC",
        "colab_type": "code",
        "colab": {}
      },
      "source": [
        "import time"
      ],
      "execution_count": 4,
      "outputs": []
    },
    {
      "cell_type": "markdown",
      "metadata": {
        "id": "Fl3isprAZZiP",
        "colab_type": "text"
      },
      "source": [
        "## Hướng tiếp cận đầu tiên: \n",
        "* Tìm phần tử nhỏ nhất trong mảng, xét với độ dài nếu nhỏ hơn thì loại khỏi mảng\n",
        "* Bị lỗi Overtime nên cải tiến code"
      ]
    },
    {
      "cell_type": "code",
      "metadata": {
        "id": "pZOm6F-HZfwT",
        "colab_type": "code",
        "colab": {
          "base_uri": "https://localhost:8080/",
          "height": 84
        },
        "outputId": "73ff8778-e640-4555-b2d4-ef019ba91caa"
      },
      "source": [
        "x = int(input())\n",
        "array = list(map(int, input().split()))\n",
        "\n",
        "def Solution(arr):\n",
        "  start_time = time.time()\n",
        "  H_index = 0\n",
        "  while(arr):\n",
        "  # print(min(arr),' ',len(arr))\n",
        "    if min(arr) >= len(arr):\n",
        "      H_index = len(arr)\n",
        "      break\n",
        "    else:\n",
        "      arr.remove(min(arr))\n",
        "  # print(arr)\n",
        "  print(\"--- %s seconds ---\" % (time.time() - start_time))\n",
        "  return H_index\n",
        "\n",
        "print(Solution(array))"
      ],
      "execution_count": 5,
      "outputs": [
        {
          "output_type": "stream",
          "text": [
            "5\n",
            "8 5 4 3 10\n",
            "--- 4.0531158447265625e-06 seconds ---\n",
            "4\n"
          ],
          "name": "stdout"
        }
      ]
    },
    {
      "cell_type": "markdown",
      "metadata": {
        "id": "y_kRwwvpaJB3",
        "colab_type": "text"
      },
      "source": [
        "## Sau khi cải tiến:\n",
        "* Thay vì mỗi lần tìm min phải duyệt mảng thì sắp xếp mảng ngay từ đầu\n",
        "* Thay vì loại phần tử nhỏ nhát khỏi mảng, duyệt mảng theo sắp xếp tăng dần, xét phần tử thứ i và độ dài mảng giảm đi i (len(arr)-i)"
      ]
    },
    {
      "cell_type": "code",
      "metadata": {
        "id": "Go0tIOCcZWr0",
        "colab_type": "code",
        "colab": {
          "base_uri": "https://localhost:8080/",
          "height": 84
        },
        "outputId": "577e0549-3ce7-4f89-cf36-a49015a40fdf"
      },
      "source": [
        "x = int(input())\n",
        "array = list(map(int, input().split()))\n",
        "\n",
        "def Solution(arr):\n",
        "  start_time = time.time()\n",
        "  H_index = 0\n",
        "  arr.sort()\n",
        "  for i in range(len(arr)):\n",
        "  # print(min(arr),' ',len(arr))\n",
        "    if arr[i] >= len(arr)-i:\n",
        "      H_index = len(arr)-i\n",
        "      break\n",
        "  # print(arr)\n",
        "  print(\"--- %s seconds ---\" % (time.time() - start_time))\n",
        "  return H_index\n",
        "\n",
        "print(Solution(array))"
      ],
      "execution_count": 6,
      "outputs": [
        {
          "output_type": "stream",
          "text": [
            "5\n",
            "8 5 4 3 10\n",
            "--- 3.5762786865234375e-06 seconds ---\n",
            "4\n"
          ],
          "name": "stdout"
        }
      ]
    }
  ]
}