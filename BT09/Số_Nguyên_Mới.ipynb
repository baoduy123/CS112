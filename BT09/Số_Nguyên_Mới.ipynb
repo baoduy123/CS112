{
  "nbformat": 4,
  "nbformat_minor": 0,
  "metadata": {
    "colab": {
      "name": "Số Nguyên Mới.ipynb",
      "provenance": []
    },
    "kernelspec": {
      "name": "python3",
      "display_name": "Python 3"
    }
  },
  "cells": [
    {
      "cell_type": "markdown",
      "metadata": {
        "id": "B3ngS3VYBxAY"
      },
      "source": [
        "<h1>Số Nguyên Mới</h1>\n",
        "<p>Cho số nguyên dương n có không quá 100 chữ số. Hãy xác định số nguyên lớn nhất m chia hết cho 3 và khác n ở đúng một chữ số.</p>\n",
        "<p><b>Dữ liệu:</b> Vào từ thiết bị nhập chuẩn gồm một dòng chứa số nguyên n có không quá 100 chữ số và không chứa các số 0 không có nghĩa.</p>\n",
        "<p><b>Kết quả:</b> Đưa ra thiết bị xuất chuẩn số nguyên m tìm được.</p>"
      ]
    },
    {
      "cell_type": "markdown",
      "metadata": {
        "id": "-bjbX_afCc_-"
      },
      "source": [
        "<hr>\n",
        "<h1>Pattern recognization:<h1>\n",
        "<p>Dynamic Programming (Quy hoạch động):</p>\n",
        "<p>Ý tưởng bài toán con gối nhau:</p>\n",
        "<ol>\n",
        "<li>Tìm số nguyên m lớn hơn n và khác n đúng 1 chữ số dọc theo mảng từ trái sang phải</li>\n",
        "<li>Từ số nguyên m kiểm tra xem có chia hết cho 3 hay không, nếu đúng thì đây chính là kết quả</li>\n",
        "<li>Nếu không có kết quả từ 2 bài toán con trên (trường hợp không có số phần tử nào từ n có thể lớn hơn chính nó - vd: 999) thì giảm số cuối cùng theo số dư của n % 3, trường hợp số nguyên m lớn nhất vẫn bé hơn số nguyên n</li>\n",
        "</ol>\n",
        "<hr>\n",
        "<p>ví dụ: n = 8212 thì m = ?</p>\n",
        "<img src=\"https://i.imgur.com/EjnNScB.png\"></img>"
      ]
    },
    {
      "cell_type": "markdown",
      "metadata": {
        "id": "RgQFr2DodNxK"
      },
      "source": [
        "# Thiết Kế thuật toán\n",
        "\n",
        "*   Input: Số nguyên n (n <= 10^100)\n",
        "*   Output: Số nguyên m lớn nhất khác n đúng 1 chữ số\n",
        "*   Temporary variables:\n",
        "    - total: tổng các phần tử của số nguyên n\n",
        "    - arr: mảng các phần tử của số nguyên n\n",
        "    - flag: total mod 3 Xét trường hợp số nguyên m lớn nhất vẫn thấp hơn n\n",
        "*   Bước 1:\n",
        "    - Xét vòng lặp từ i -> hết phần tử mảng:\n",
        "      - Nếu phần tử arr[i] < 9 thì ta có thể xét vòng lặp j từ 9 đến giá trị phần tử đó\n",
        "* Bước 2\n",
        "    - Nếu tồn tại số j sao cho khi thay thế phần tử arr[i] ta được số chia hết cho 3 thì dừng, xuất kết quả\n",
        "* Bước 3:\n",
        "    - Nếu không tồn tại số m sau khi lặp, thì rơi vào trường hợp m < n\n",
        "    - Ta lấy số cuối cùng của n - 1 nếu dư 1, n - 2 nếu dư 2, n - 3 nếu dư 0\n",
        "    - Kết thúc\n",
        "\n",
        "* Độ phức tạp thuật toán: \n",
        "  - Thuật toán gồm vòng lặp hết mảng O(n) và xét các số lớn nhất rơi vào khoảng (9,8,7) nên ta có O(3) ~ O(1)\n",
        "  - => Nên ta có O(n) * O(1) = O(n)\n"
      ]
    },
    {
      "cell_type": "code",
      "metadata": {
        "colab": {
          "base_uri": "https://localhost:8080/"
        },
        "id": "VoYEbaK_0ejw",
        "outputId": "787d3ac6-bafa-4329-f012-852af8aa9fc8"
      },
      "source": [
        "num = input()\n",
        "\n",
        "def newNumber(num):\n",
        "  arr = [int(i) for i in num]\n",
        "  total = sum(arr)\n",
        "  flag = total % 3\n",
        "  for i in range(len(arr)):\n",
        "\n",
        "    if arr[i] < 9:\n",
        "      for j in range(9,arr[i],-1):\n",
        "        if (total + j - arr[i] ) % 3 == 0:\n",
        "          arr[i] = j\n",
        "          return arr\n",
        "\n",
        "  if flag != 0:\n",
        "    arr[-1] -= flag\n",
        "  else:\n",
        "    arr[-1] -= 3\n",
        "  return arr\n",
        "\n",
        "out = ''\n",
        "for i in newNumber(num):\n",
        "  out += str(i)\n",
        "print(out)"
      ],
      "execution_count": 77,
      "outputs": [
        {
          "output_type": "stream",
          "text": [
            "8212\n",
            "8712\n"
          ],
          "name": "stdout"
        }
      ]
    }
  ]
}
