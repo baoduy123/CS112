{
  "nbformat": 4,
  "nbformat_minor": 0,
  "metadata": {
    "colab": {
      "name": "Đèn Led.ipynb",
      "provenance": [],
      "collapsed_sections": []
    },
    "kernelspec": {
      "name": "python3",
      "display_name": "Python 3"
    }
  },
  "cells": [
    {
      "cell_type": "code",
      "metadata": {
        "colab": {
          "base_uri": "https://localhost:8080/"
        },
        "id": "yDx_sP5Va3ru",
        "outputId": "e3c30ac6-671f-4c06-ea2a-a9a328c354d9"
      },
      "source": [
        "n = int(input())\r\n",
        "\r\n",
        "if n%3 == 0:\r\n",
        "  output = 7*(int(n/3))\r\n",
        "elif n%3 == 1:\r\n",
        "  output = 7*(int(n/3) - 1) + 4\r\n",
        "else:\r\n",
        "  output = 7*(int(n/3)) + 1\r\n",
        "print(output)"
      ],
      "execution_count": 1,
      "outputs": [
        {
          "output_type": "stream",
          "text": [
            "7\n",
            "11\n"
          ],
          "name": "stdout"
        }
      ]
    }
  ]
}
