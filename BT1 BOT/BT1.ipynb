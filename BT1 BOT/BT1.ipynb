{
 "metadata": {
  "language_info": {
   "codemirror_mode": {
    "name": "ipython",
    "version": 3
   },
   "file_extension": ".py",
   "mimetype": "text/x-python",
   "name": "python",
   "nbconvert_exporter": "python",
   "pygments_lexer": "ipython3",
   "version": "3.8.5-final"
  },
  "orig_nbformat": 2,
  "kernelspec": {
   "name": "python_defaultSpec_1600226520815",
   "display_name": "Python 3.8.5 32-bit"
  }
 },
 "nbformat": 4,
 "nbformat_minor": 2,
 "cells": [
  {
   "cell_type": "code",
   "execution_count": 1,
   "metadata": {
    "tags": []
   },
   "outputs": [
    {
     "output_type": "stream",
     "name": "stdout",
     "text": "5 15 12\n"
    }
   ],
   "source": [
    "x = int(input())\n",
    "arr = list(map(int, input().split()))\n",
    "ans = 0\n",
    "sum = 0\n",
    "p = 0\n",
    "q = 0\n",
    "s = 0\n",
    "for i in range(x):\n",
    "    if sum < 0:\n",
    "        s = i\n",
    "        sum = arr[i]\n",
    "    else:\n",
    "        sum += arr[i]\n",
    "    if ans < sum:\n",
    "        ans = sum\n",
    "        q = i\n",
    "        p = s\n",
    "print(p + 1, q + 1, ans)"
   ]
  }
 ]
}