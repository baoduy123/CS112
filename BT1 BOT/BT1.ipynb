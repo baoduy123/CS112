{
  "nbformat": 4,
  "nbformat_minor": 0,
  "metadata": {
    "colab": {
      "name": "BT1.ipynb",
      "provenance": [],
      "collapsed_sections": []
    },
    "kernelspec": {
      "name": "python3",
      "display_name": "Python 3"
    }
  },
  "cells": [
    {
      "cell_type": "code",
      "metadata": {
        "id": "PDSqRGrK5lNV",
        "colab_type": "code",
        "colab": {
          "base_uri": "https://localhost:8080/",
          "height": 391
        },
        "outputId": "c6d68671-8c05-4038-de74-146c8b0b85b7"
      },
      "source": [
        "x = int(input())\n",
        "i = 0\n",
        "sum = 0\n",
        "arr = []\n",
        "ans = 0\n",
        "while i < x:\n",
        "    arr.append(int(input()))\n",
        "    sum = sum + arr[i]\n",
        "    if ans < sum:\n",
        "        ans = sum\n",
        "        q = i\n",
        "    if arr[i] > sum:\n",
        "        sum = arr[i]\n",
        "        p = i\n",
        "    i = i + 1\n",
        "\n",
        "print(\"\\n\")\n",
        "print(p + 1)\n",
        "print(q + 1)\n",
        "print(ans)"
      ],
      "execution_count": 1,
      "outputs": [
        {
          "output_type": "stream",
          "text": [
            "16\n",
            "2\n",
            "-4\n",
            "5\n",
            "-8\n",
            "4\n",
            "-1\n",
            "-1\n",
            "1\n",
            "1\n",
            "1\n",
            "-2\n",
            "2\n",
            "4\n",
            "-6\n",
            "9\n",
            "-4\n",
            "\n",
            "\n",
            "5\n",
            "15\n",
            "12\n"
          ],
          "name": "stdout"
        }
      ]
    }
  ]
}

